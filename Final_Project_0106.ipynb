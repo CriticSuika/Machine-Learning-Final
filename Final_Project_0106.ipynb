{
 "cells": [
  {
   "cell_type": "code",
   "execution_count": 1,
   "id": "ed0c9d47",
   "metadata": {},
   "outputs": [],
   "source": [
    "import numpy as np\n",
    "import pandas as pd\n",
    "import math\n",
    "import itertools\n",
    "from sklearn.preprocessing import LabelEncoder, OneHotEncoder, StandardScaler\n",
    "from sklearn.linear_model import LinearRegression, LogisticRegression\n",
    "from sklearn.model_selection import GridSearchCV, train_test_split, cross_val_score\n",
    "from sklearn.metrics import accuracy_score, r2_score\n",
    "from sklearn.ensemble import RandomForestRegressor, AdaBoostClassifier, BaggingClassifier, VotingClassifier\n",
    "from sklearn.pipeline import Pipeline\n",
    "from sklearn.impute import SimpleImputer\n",
    "from sklearn.neighbors import KNeighborsClassifier\n",
    "from sklearn.tree import DecisionTreeClassifier\n",
    "from sklearn.svm import SVC"
   ]
  },
  {
   "cell_type": "code",
   "execution_count": 2,
   "id": "1472fc06",
   "metadata": {},
   "outputs": [],
   "source": [
    "df2017A = pd.read_csv('data/A_data_2017.csv')\n",
    "df2018A = pd.read_csv('data/A_data_2018.csv')\n",
    "df2019A = pd.read_csv('data/A_data_2019.csv')\n",
    "df2020A = pd.read_csv('data/A_data_2020.csv')\n",
    "df2021A = pd.read_csv('data/A_data_2021.csv')\n",
    "df2022A = pd.read_csv('data/A_data_2022.csv')\n",
    "\n",
    "df2017A = df2017A.dropna(axis=1, how='all') \n",
    "df2017A = df2017A.dropna(axis=0, how='any') \n",
    "df2018A = df2018A.dropna(axis=1, how='all') \n",
    "df2018A = df2018A.dropna(axis=0, how='any') \n",
    "df2019A = df2019A.dropna(axis=1, how='all') \n",
    "df2019A = df2019A.dropna(axis=0, how='any') \n",
    "df2020A = df2020A.dropna(axis=1, how='all') \n",
    "df2020A = df2020A.dropna(axis=0, how='any') \n",
    "df2021A = df2021A.dropna(axis=1, how='all') \n",
    "df2021A = df2021A.dropna(axis=0, how='any') \n",
    "df2022A = df2022A.dropna(axis=1, how='all') \n",
    "df2022A = df2022A.dropna(axis=0, how='any') \n",
    "\n",
    "x2017A = df2017A.drop(['teamname1', 'teamname2', 'result', 'towers1', 'towers2'], axis=1)\n",
    "y2017A = df2017A['result'].values\n",
    "x2018A = df2018A.drop(['teamname1', 'teamname2', 'result', 'towers1', 'towers2'], axis=1)\n",
    "y2018A = df2018A['result'].values\n",
    "x2019A = df2019A.drop(['teamname1', 'teamname2', 'result', 'towers1', 'towers2'], axis=1)\n",
    "y2019A = df2019A['result'].values\n",
    "x2020A = df2020A.drop(['teamname1', 'teamname2', 'result', 'towers1', 'towers2'], axis=1)\n",
    "y2020A = df2020A['result'].values\n",
    "x2021A = df2021A.drop(['teamname1', 'teamname2', 'result', 'towers1', 'towers2'], axis=1)\n",
    "y2021A = df2021A['result'].values\n",
    "x2022A = df2022A.drop(['teamname1', 'teamname2', 'result', 'towers1', 'towers2'], axis=1)\n",
    "y2022A = df2022A['result'].values"
   ]
  },
  {
   "cell_type": "code",
   "execution_count": 3,
   "id": "d7446823",
   "metadata": {},
   "outputs": [
    {
     "name": "stdout",
     "output_type": "stream",
     "text": [
      "R^2 trainA: 0.99, testA: 0.96\n"
     ]
    }
   ],
   "source": [
    "X_trainA, X_testA, y_trainA, y_testA = train_test_split(x2018A, y2018A, test_size=0.2, random_state=1)\n",
    "\n",
    "forest = RandomForestRegressor(n_estimators=1000, criterion='squared_error', random_state=1, n_jobs=-1)\n",
    "forest.fit(X_trainA, y_trainA)\n",
    "\n",
    "y_trainA_pred = forest.predict(X_trainA)\n",
    "y_testA_pred = forest.predict(X_testA)\n",
    "\n",
    "print('R^2 trainA: %.2f, testA: %.2f' % (r2_score(y_trainA, y_trainA_pred),\n",
    "                                       r2_score(y_testA, y_testA_pred)))"
   ]
  },
  {
   "cell_type": "code",
   "execution_count": 4,
   "id": "8c7913b3",
   "metadata": {},
   "outputs": [
    {
     "name": "stdout",
     "output_type": "stream",
     "text": [
      "R^2 2017A: 0.99\n",
      "R^2 2018A: 0.99\n",
      "R^2 2019A: 0.98\n",
      "R^2 2020A: 0.97\n"
     ]
    }
   ],
   "source": [
    "y_2017A_pred = forest.predict(x2017A)\n",
    "y_2018A_pred = forest.predict(x2018A)\n",
    "y_2019A_pred = forest.predict(x2019A)\n",
    "y_2020A_pred = forest.predict(x2020A)\n",
    "\n",
    "print('R^2 2017A: %.2f' % (r2_score(y2017A, y_2017A_pred)))\n",
    "print('R^2 2018A: %.2f' % (r2_score(y2018A, y_2018A_pred)))\n",
    "print('R^2 2019A: %.2f' % (r2_score(y2019A, y_2019A_pred)))\n",
    "print('R^2 2020A: %.2f' % (r2_score(y2020A, y_2020A_pred)))"
   ]
  },
  {
   "cell_type": "code",
   "execution_count": 5,
   "id": "2e87dd01",
   "metadata": {},
   "outputs": [],
   "source": [
    "df2017B = pd.read_csv('data/B_data_2017.csv')\n",
    "df2018B = pd.read_csv('data/B_data_2018.csv')\n",
    "df2019B = pd.read_csv('data/B_data_2019.csv')\n",
    "df2020B = pd.read_csv('data/B_data_2020.csv')\n",
    "df2021B = pd.read_csv('data/B_data_2021.csv')\n",
    "df2022B = pd.read_csv('data/B_data_2022.csv')\n",
    "\n",
    "df2017B = df2017B.drop(['date', 'team1', 'team2', 'visionscorepg1', 'visionscorepg2'], axis=1)\n",
    "df2018B = df2018B.drop(['date', 'team1', 'team2', 'visionscorepg1', 'visionscorepg2'], axis=1)\n",
    "df2019B = df2019B.drop(['date', 'team1', 'team2', 'visionscorepg1', 'visionscorepg2'], axis=1)\n",
    "df2020B = df2020B.drop(['date', 'team1', 'team2', 'visionscorepg1', 'visionscorepg2'], axis=1)\n",
    "df2021B = df2021B.drop(['date', 'team1', 'team2', 'visionscorepg1', 'visionscorepg2'], axis=1)\n",
    "df2022B = df2022B.drop(['date', 'team1', 'team2', 'visionscorepg1', 'visionscorepg2'], axis=1)\n",
    "\n",
    "df2017B = df2017B[df2017B.apply(np.sum,axis=1)>1]\n",
    "df2018B = df2018B[df2018B.apply(np.sum,axis=1)>1]\n",
    "df2019B = df2019B[df2019B.apply(np.sum,axis=1)>1]\n",
    "df2020B = df2020B[df2020B.apply(np.sum,axis=1)>1]\n",
    "df2021B = df2021B[df2021B.apply(np.sum,axis=1)>1]\n",
    "df2022B = df2022B[df2022B.apply(np.sum,axis=1)>1]\n",
    "\n",
    "x2017B = df2017B.drop(['result'], axis=1)\n",
    "y2017B = df2017B['result'].values\n",
    "x2018B = df2018B.drop(['result'], axis=1)\n",
    "y2018B = df2018B['result'].values\n",
    "x2019B = df2019B.drop(['result'], axis=1)\n",
    "y2019B = df2019B['result'].values\n",
    "x2020B = df2020B.drop(['result'], axis=1)\n",
    "y2020B = df2020B['result'].values\n",
    "x2021B = df2021B.drop(['result'], axis=1)\n",
    "y2021B = df2021B['result'].values\n",
    "x2022B = df2022B.drop(['result'], axis=1)\n",
    "y2022B = df2022B['result'].values"
   ]
  },
  {
   "cell_type": "code",
   "execution_count": 6,
   "id": "49e3a239",
   "metadata": {},
   "outputs": [],
   "source": [
    "X_trainB, X_testB, y_trainB, y_testB = train_test_split(x2020B, y2020B, test_size=0.2, random_state=42)\n",
    "\n",
    "sc = StandardScaler()\n",
    "sc.fit(X_trainB)\n",
    "X_trainB_std = sc.transform(X_trainB)\n",
    "X_testB_std = sc.transform(X_testB)\n",
    "x2017B_std = sc.transform(x2017B)\n",
    "x2018B_std = sc.transform(x2018B)\n",
    "x2019B_std = sc.transform(x2019B)\n",
    "x2020B_std = sc.transform(x2020B)\n",
    "x2021B_std = sc.transform(x2021B)\n",
    "x2022B_std = sc.transform(x2022B)"
   ]
  },
  {
   "cell_type": "code",
   "execution_count": 12,
   "id": "ac259fca",
   "metadata": {},
   "outputs": [
    {
     "name": "stdout",
     "output_type": "stream",
     "text": [
      "[Bagging]\n",
      "accuracy-train = 1.000, accuracy-test = 0.623\n"
     ]
    }
   ],
   "source": [
    "tree = DecisionTreeClassifier(criterion='entropy', max_depth=None, random_state=0)\n",
    "bag = BaggingClassifier(base_estimator=tree, n_estimators=500, \n",
    "                        max_samples=0.8, bootstrap=True,\n",
    "                        max_features=1.0, bootstrap_features=False, \n",
    "                        n_jobs=1, random_state=1)\n",
    "# Bagging\n",
    "bag = bag.fit(X_trainB_std, y_trainB)\n",
    "y_train_pred = bag.predict(X_trainB_std)\n",
    "y_test_pred = bag.predict(X_testB_std)\n",
    "\n",
    "bag_train = accuracy_score(y_trainB, y_train_pred) \n",
    "bag_test = accuracy_score(y_testB, y_test_pred) \n",
    "print('[Bagging]\\naccuracy-train = %.3f, accuracy-test = %.3f' % (bag_train, bag_test))"
   ]
  },
  {
   "cell_type": "code",
   "execution_count": 13,
   "id": "d3659773",
   "metadata": {},
   "outputs": [
    {
     "name": "stdout",
     "output_type": "stream",
     "text": [
      "[Bagging]\n",
      "accuracy-2017 = 0.926\n",
      "accuracy-2018 = 0.925\n",
      "accuracy-2019 = 0.925\n",
      "accuracy-2020 = 0.925\n",
      "accuracy-2021 = 0.835\n",
      "accuracy-2022 = 0.787\n"
     ]
    }
   ],
   "source": [
    "y2017B_pred = bag.predict(x2017B_std)\n",
    "y2018B_pred = bag.predict(x2018B_std)\n",
    "y2019B_pred = bag.predict(x2019B_std)\n",
    "y2020B_pred = bag.predict(x2020B_std)\n",
    "y2021B_pred = bag.predict(x2021B_std)\n",
    "y2022B_pred = bag.predict(x2022B_std)\n",
    "\n",
    "bagging2017 = accuracy_score(y2017B, y2017B_pred) \n",
    "bagging2018 = accuracy_score(y2018B, y2018B_pred) \n",
    "bagging2019 = accuracy_score(y2019B, y2019B_pred) \n",
    "bagging2020 = accuracy_score(y2020B, y2020B_pred) \n",
    "bagging2021 = accuracy_score(y2021B, y2021B_pred) \n",
    "bagging2022 = accuracy_score(y2022B, y2022B_pred) \n",
    "\n",
    "print('[Bagging]')\n",
    "print('accuracy-2017 = %.3f' % (bagging2017))\n",
    "print('accuracy-2018 = %.3f' % (bagging2018))\n",
    "print('accuracy-2019 = %.3f' % (bagging2019))\n",
    "print('accuracy-2020 = %.3f' % (bagging2020))\n",
    "print('accuracy-2021 = %.3f' % (bagging2021))\n",
    "print('accuracy-2022 = %.3f' % (bagging2022))"
   ]
  },
  {
   "cell_type": "code",
   "execution_count": 14,
   "id": "dbef2527",
   "metadata": {},
   "outputs": [
    {
     "name": "stdout",
     "output_type": "stream",
     "text": [
      "[Adaboost -- max_depth = 4]\n",
      "accuracy-train = 0.627, accuracy-test = 0.621\n"
     ]
    }
   ],
   "source": [
    "ada_pipeline = Pipeline(steps = [(\"clf\", AdaBoostClassifier(base_estimator=DecisionTreeClassifier()))])\n",
    "\n",
    "param_grid = {\n",
    "    'clf__base_estimator__max_depth': [4, 6, 8, 10],\n",
    "    'clf__n_estimators': [1, 5, 10, 20, 30, 50, 100]\n",
    "}\n",
    "ada_grid = GridSearchCV(\n",
    "    estimator = ada_pipeline, \n",
    "    param_grid = param_grid, \n",
    "    scoring = \"accuracy\",\n",
    "    n_jobs = 2,\n",
    "    cv = 5\n",
    ")\n",
    "ada_grid.fit(X_trainB_std, y_trainB)\n",
    "\n",
    "y_train_pred = ada_grid.predict(X_trainB_std)\n",
    "y_test_pred = ada_grid.predict(X_testB_std)\n",
    "\n",
    "ada_train = accuracy_score(y_trainB, y_train_pred) \n",
    "ada_test = accuracy_score(y_testB, y_test_pred) \n",
    "print('[Adaboost -- max_depth = %d]\\naccuracy-train = %.3f, accuracy-test = %.3f' % (ada_grid.best_params_.get('clf__base_estimator__max_depth'), ada_train, ada_test))"
   ]
  },
  {
   "cell_type": "code",
   "execution_count": 15,
   "id": "a25283fb",
   "metadata": {},
   "outputs": [
    {
     "name": "stdout",
     "output_type": "stream",
     "text": [
      "[Boosting]\n",
      "accuracy-2017 = 0.627\n",
      "accuracy-2018 = 0.629\n",
      "accuracy-2019 = 0.626\n",
      "accuracy-2020 = 0.626\n",
      "accuracy-2021 = 0.622\n",
      "accuracy-2022 = 0.620\n"
     ]
    }
   ],
   "source": [
    "y2017B_pred = ada_grid.predict(x2017B_std)\n",
    "y2018B_pred = ada_grid.predict(x2018B_std)\n",
    "y2019B_pred = ada_grid.predict(x2019B_std)\n",
    "y2020B_pred = ada_grid.predict(x2020B_std)\n",
    "y2021B_pred = ada_grid.predict(x2021B_std)\n",
    "y2022B_pred = ada_grid.predict(x2022B_std)\n",
    "\n",
    "boosting2017 = accuracy_score(y2017B, y2017B_pred) \n",
    "boosting2018 = accuracy_score(y2018B, y2018B_pred) \n",
    "boosting2019 = accuracy_score(y2019B, y2019B_pred) \n",
    "boosting2020 = accuracy_score(y2020B, y2020B_pred) \n",
    "boosting2021 = accuracy_score(y2021B, y2021B_pred) \n",
    "boosting2022 = accuracy_score(y2022B, y2022B_pred) \n",
    "\n",
    "print('[Boosting]')\n",
    "print('accuracy-2017 = %.3f' % (boosting2017))\n",
    "print('accuracy-2018 = %.3f' % (boosting2018))\n",
    "print('accuracy-2019 = %.3f' % (boosting2019))\n",
    "print('accuracy-2020 = %.3f' % (boosting2020))\n",
    "print('accuracy-2021 = %.3f' % (boosting2021))\n",
    "print('accuracy-2022 = %.3f' % (boosting2022))"
   ]
  }
 ],
 "metadata": {
  "kernelspec": {
   "display_name": "Python 3 (ipykernel)",
   "language": "python",
   "name": "python3"
  },
  "language_info": {
   "codemirror_mode": {
    "name": "ipython",
    "version": 3
   },
   "file_extension": ".py",
   "mimetype": "text/x-python",
   "name": "python",
   "nbconvert_exporter": "python",
   "pygments_lexer": "ipython3",
   "version": "3.9.12"
  }
 },
 "nbformat": 4,
 "nbformat_minor": 5
}
